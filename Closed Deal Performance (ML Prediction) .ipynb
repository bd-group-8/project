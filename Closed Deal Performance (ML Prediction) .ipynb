cd = sqlContext.sql("select * from olist_closed_deals_dataset_csv")
order_items = sqlContext.sql("select * from olist_order_items_dataset_csv")
orders = sqlContext.sql("select * from olist_orders_dataset_csv")                     
products = sqlContext.sql("select * from olist_products_dataset_csv")
product_translation = sqlContext.sql("select * from product_category_name_translation_csv")


print(cd.count(), len(cd.columns))
print(order_items.count(), len(order_items.columns))
print(orders.count(), len(orders.columns))
print(products.count(), len(products.columns))
print(product_translation.count(), len(product_translation.columns))
data = cd.join(order_items, on= ['seller_id'], how='inner')

data = cd.join(order_items, on=['seller_id'], how='inner')
data = data.join(orders, on=['order_id'], how='inner')
data = data.join(products, on=['product_id'], how='inner')
data = data.join(product_translation, on=['product_category_name'], how='left')

data.count()
data = data[data['order_status'] == 'delivered']
data = data.withColumn('order_purchase_timestamp(y-m)', data['order_purchase_timestamp'].cast('date'))
cols = data.groupby('business_segment') 
monthly_segment_revenue = data.groupby(['order_purchase_timestamp(y-m)', 'business_segment'])
watches = data[data.business_segment == 'watches']
cols = watches.groupby('product_category_name_english')
monthly_revenue_category = watches.groupby(['order_purchase_timestamp(y-m)', 'product_category_name_english'])
# Create 'seller - product category' table
cols = watches.groupby('product_category_name_english')
watches_seller_revenue = watches.groupby(['seller_id', 'product_category_name_english'])
# Create 'category - seller' table
index = watches.groupby('product_category_name_english')
seller_category_revenue = watches.groupby(['seller_id', 'product_category_name_english'])
